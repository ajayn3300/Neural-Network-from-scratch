{
 "cells": [
  {
   "cell_type": "code",
   "execution_count": 23,
   "id": "9e383348",
   "metadata": {},
   "outputs": [],
   "source": [
    "import numpy as np\n",
    "\n",
    "inputs = np.array([[1, 2, 3, 2.5],\n",
    "[2.0, 5.0, -1.0, 2.0],\n",
    "[-1.5, 2.7, 3.3, -0.8]])\n",
    "\n",
    "weights = np.array([[0.2, 0.8, -0.5, 1.0],\n",
    "[0.5, -0.91, 0.26, -0.5],\n",
    "[-0.26, -0.27, 0.17, 0.87]])\n",
    "\n",
    "biases = np.array([2, 3, 0.5])"
   ]
  },
  {
   "cell_type": "code",
   "execution_count": 25,
   "id": "2515dc68",
   "metadata": {},
   "outputs": [
    {
     "data": {
      "text/plain": [
       "array([[ 4.8  ,  1.21 ,  2.385],\n",
       "       [ 8.9  , -1.81 ,  0.2  ],\n",
       "       [ 1.41 ,  1.051,  0.026]])"
      ]
     },
     "execution_count": 25,
     "metadata": {},
     "output_type": "execute_result"
    }
   ],
   "source": [
    "inputs.dot(weights.T) +biases"
   ]
  },
  {
   "cell_type": "code",
   "execution_count": null,
   "id": "28ae6d03",
   "metadata": {},
   "outputs": [],
   "source": []
  },
  {
   "cell_type": "code",
   "execution_count": null,
   "id": "26b02571",
   "metadata": {},
   "outputs": [],
   "source": []
  }
 ],
 "metadata": {
  "kernelspec": {
   "display_name": "Python 3",
   "language": "python",
   "name": "python3"
  },
  "language_info": {
   "codemirror_mode": {
    "name": "ipython",
    "version": 3
   },
   "file_extension": ".py",
   "mimetype": "text/x-python",
   "name": "python",
   "nbconvert_exporter": "python",
   "pygments_lexer": "ipython3",
   "version": "3.12.10"
  }
 },
 "nbformat": 4,
 "nbformat_minor": 5
}

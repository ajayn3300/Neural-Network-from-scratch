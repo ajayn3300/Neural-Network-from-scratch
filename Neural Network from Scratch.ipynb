{
 "cells": [
  {
   "cell_type": "code",
   "execution_count": 1,
   "id": "9e383348",
   "metadata": {},
   "outputs": [],
   "source": [
    "import numpy as np\n",
    "\n",
    "inputs = np.array([[1, 2, 3, 2.5],\n",
    "[2.0, 5.0, -1.0, 2.0],\n",
    "[-1.5, 2.7, 3.3, -0.8]])"
   ]
  },
  {
   "cell_type": "code",
   "execution_count": null,
   "id": "28ae6d03",
   "metadata": {},
   "outputs": [],
   "source": [
    "class Network:\n",
    "    def __init__(self):\n",
    "        self.W = {}\n",
    "        self.B = {}\n",
    "    def layer(self, inputs, layer_no, neurons, ):\n",
    "        self.layer_no = layer_no\n",
    "        self.neurons = neurons\n",
    "        self.inputs = inputs\n",
    "\n",
    "        for i in range(self.neurons):\n",
    "            if f\"{self.layer_no}{i}\" not in self.W.keys():\n",
    "                self.W[f\"{self.layer_no}{i}\"] = np.array([np.random.randn(self.inputs.shape[1]) for i in range(self.inputs.shape[0])])\n",
    "                self.B[f\"{self.layer_no}{i}\"] = np.array([np.random.randn() for i in range(self.inputs.shape[0])])\n",
    "\n",
    "    # def forward(self, ):\n",
    "    #     pass            "
   ]
  },
  {
   "cell_type": "code",
   "execution_count": 19,
   "id": "915941a5",
   "metadata": {},
   "outputs": [],
   "source": [
    "nn = Network()"
   ]
  },
  {
   "cell_type": "code",
   "execution_count": 20,
   "id": "8a12c705",
   "metadata": {},
   "outputs": [
    {
     "ename": "NameError",
     "evalue": "name 'weights' is not defined",
     "output_type": "error",
     "traceback": [
      "\u001b[31m---------------------------------------------------------------------------\u001b[39m",
      "\u001b[31mNameError\u001b[39m                                 Traceback (most recent call last)",
      "\u001b[36mCell\u001b[39m\u001b[36m \u001b[39m\u001b[32mIn[20]\u001b[39m\u001b[32m, line 1\u001b[39m\n\u001b[32m----> \u001b[39m\u001b[32m1\u001b[39m layer1 = \u001b[43mnn\u001b[49m\u001b[43m.\u001b[49m\u001b[43mlayer\u001b[49m\u001b[43m(\u001b[49m\u001b[43minputs\u001b[49m\u001b[43m,\u001b[49m\u001b[43m \u001b[49m\u001b[32;43m1\u001b[39;49m\u001b[43m,\u001b[49m\u001b[43m \u001b[49m\u001b[32;43m2\u001b[39;49m\u001b[43m)\u001b[49m\n",
      "\u001b[36mCell\u001b[39m\u001b[36m \u001b[39m\u001b[32mIn[18]\u001b[39m\u001b[32m, line 8\u001b[39m, in \u001b[36mNetwork.layer\u001b[39m\u001b[34m(self, inputs, layer_no, neurons)\u001b[39m\n\u001b[32m      6\u001b[39m \u001b[38;5;28mself\u001b[39m.layer_no = layer_no\n\u001b[32m      7\u001b[39m \u001b[38;5;28mself\u001b[39m.neurons = neurons\n\u001b[32m----> \u001b[39m\u001b[32m8\u001b[39m \u001b[38;5;28mself\u001b[39m.weights = \u001b[43mweights\u001b[49m\n\u001b[32m      9\u001b[39m \u001b[38;5;28mself\u001b[39m.biases = biases\n\u001b[32m     10\u001b[39m \u001b[38;5;28mself\u001b[39m.inputs = inputs\n",
      "\u001b[31mNameError\u001b[39m: name 'weights' is not defined"
     ]
    }
   ],
   "source": [
    "layer1 = nn.layer(inputs, 1, 2)"
   ]
  },
  {
   "cell_type": "code",
   "execution_count": null,
   "id": "a8e6c292",
   "metadata": {},
   "outputs": [],
   "source": []
  }
 ],
 "metadata": {
  "kernelspec": {
   "display_name": "Python 3",
   "language": "python",
   "name": "python3"
  },
  "language_info": {
   "codemirror_mode": {
    "name": "ipython",
    "version": 3
   },
   "file_extension": ".py",
   "mimetype": "text/x-python",
   "name": "python",
   "nbconvert_exporter": "python",
   "pygments_lexer": "ipython3",
   "version": "3.12.10"
  }
 },
 "nbformat": 4,
 "nbformat_minor": 5
}

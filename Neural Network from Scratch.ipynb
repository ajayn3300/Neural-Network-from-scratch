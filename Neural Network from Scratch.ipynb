{
 "cells": [
  {
   "cell_type": "code",
   "execution_count": 1,
   "id": "5e5519f8",
   "metadata": {},
   "outputs": [],
   "source": [
    "inputs = [1.2, 5.1, 2.1, 1]\n",
    "weights1 = [3.1, 2.1, 8.7, 2.3]\n",
    "weights2 = [2, 1, 2, 3]\n",
    "weights3 = [0.1, 1, 2, 3]\n",
    "bias1 = 1\n",
    "bias2 = 2\n",
    "bias3 = 3\n"
   ]
  },
  {
   "cell_type": "code",
   "execution_count": 5,
   "id": "7ad18fdd",
   "metadata": {},
   "outputs": [
    {
     "name": "stdout",
     "output_type": "stream",
     "text": [
      "neuron_1 36.0\n",
      "neuron_2 16.7\n",
      "neuron_3 15.42\n"
     ]
    }
   ],
   "source": [
    "neuron_1 = round(sum([weights1[i]*j for i,j in enumerate(inputs)]) + bias1,2)\n",
    "neuron_2 = round(sum([weights2[i]*j for i,j in enumerate(inputs)]) + bias2,2)\n",
    "neuron_3 = round(sum([weights3[i]*j for i,j in enumerate(inputs)]) + bias3,2)\n",
    "print('neuron_1',neuron_1)\n",
    "print('neuron_2',neuron_2)\n",
    "print('neuron_3',neuron_3)"
   ]
  },
  {
   "cell_type": "code",
   "execution_count": 6,
   "id": "da55f94b",
   "metadata": {},
   "outputs": [],
   "source": [
    "output = [neuron_1, neuron_2, neuron_3]\n"
   ]
  },
  {
   "cell_type": "code",
   "execution_count": 8,
   "id": "c8ea8479",
   "metadata": {},
   "outputs": [],
   "source": [
    "import numpy as np"
   ]
  },
  {
   "cell_type": "code",
   "execution_count": 19,
   "id": "1ba860d0",
   "metadata": {},
   "outputs": [
    {
     "data": {
      "text/plain": [
       "np.float64(35.0)"
      ]
     },
     "execution_count": 19,
     "metadata": {},
     "output_type": "execute_result"
    }
   ],
   "source": [
    "np.array(inputs).dot(np.array(weights1))"
   ]
  },
  {
   "cell_type": "code",
   "execution_count": null,
   "id": "5f2712f6",
   "metadata": {},
   "outputs": [],
   "source": []
  },
  {
   "cell_type": "code",
   "execution_count": null,
   "id": "ff363acc",
   "metadata": {},
   "outputs": [],
   "source": []
  }
 ],
 "metadata": {
  "kernelspec": {
   "display_name": "Python 3",
   "language": "python",
   "name": "python3"
  },
  "language_info": {
   "codemirror_mode": {
    "name": "ipython",
    "version": 3
   },
   "file_extension": ".py",
   "mimetype": "text/x-python",
   "name": "python",
   "nbconvert_exporter": "python",
   "pygments_lexer": "ipython3",
   "version": "3.12.10"
  }
 },
 "nbformat": 4,
 "nbformat_minor": 5
}

{
 "cells": [
  {
   "cell_type": "code",
   "execution_count": 1,
   "id": "5e5519f8",
   "metadata": {},
   "outputs": [],
   "source": [
    "inputs = [1.2, 5.1, 2.1, 1]\n",
    "weights1 = [3.1, 2.1, 8.7, 2.3]\n",
    "weights2 = [2, 1, 2, 3]\n",
    "weights3 = [0.1, 1, 2, 3]\n",
    "bias1 = 1\n",
    "bias2 = 2\n",
    "bias3 = 3\n"
   ]
  },
  {
   "cell_type": "code",
   "execution_count": 2,
   "id": "7ad18fdd",
   "metadata": {},
   "outputs": [
    {
     "name": "stdout",
     "output_type": "stream",
     "text": [
      "neuron_1 36.0\n",
      "neuron_2 16.7\n",
      "neuron_3 15.42\n"
     ]
    }
   ],
   "source": [
    "neuron_1 = round(sum([weights1[i]*j for i,j in enumerate(inputs)]) + bias1,2)\n",
    "neuron_2 = round(sum([weights2[i]*j for i,j in enumerate(inputs)]) + bias2,2)\n",
    "neuron_3 = round(sum([weights3[i]*j for i,j in enumerate(inputs)]) + bias3,2)\n",
    "print('neuron_1',neuron_1)\n",
    "print('neuron_2',neuron_2)\n",
    "print('neuron_3',neuron_3)"
   ]
  },
  {
   "cell_type": "code",
   "execution_count": 3,
   "id": "da55f94b",
   "metadata": {},
   "outputs": [],
   "source": [
    "output = [neuron_1, neuron_2, neuron_3]\n"
   ]
  },
  {
   "cell_type": "code",
   "execution_count": 4,
   "id": "c8ea8479",
   "metadata": {},
   "outputs": [],
   "source": [
    "import numpy as np"
   ]
  },
  {
   "cell_type": "code",
   "execution_count": 28,
   "id": "43d42840",
   "metadata": {},
   "outputs": [],
   "source": [
    "W, B = {}, {}"
   ]
  },
  {
   "cell_type": "code",
   "execution_count": 31,
   "id": "ff363acc",
   "metadata": {},
   "outputs": [],
   "source": [
    "def layer(inputs, neurons, layer_no, weights = None, bias = None):\n",
    "    global W\n",
    "    global B\n",
    "    if weights is None:\n",
    "        for n in range(neurons):\n",
    "            W[f'w{layer_no}{n}'] = np.random.random(np.array(inputs).shape[0])\n",
    "            B[f'b{layer_no}{n}'] = np.random.rand(1)[0]\n",
    "    outputs = [np.array(inputs).dot(W[f'w{layer_no}{i}'])+B[f'b{layer_no}{i}'] for i in range(neurons)]\n",
    "    return outputs"
   ]
  },
  {
   "cell_type": "code",
   "execution_count": 36,
   "id": "7f8f8c82",
   "metadata": {},
   "outputs": [
    {
     "data": {
      "text/plain": [
       "[np.float64(3.025715307987236),\n",
       " np.float64(3.709630384686682),\n",
       " np.float64(6.42598105050125),\n",
       " np.float64(5.611489013193939),\n",
       " np.float64(7.715432902593459)]"
      ]
     },
     "execution_count": 36,
     "metadata": {},
     "output_type": "execute_result"
    }
   ],
   "source": [
    "layer(inputs, 5, 1)"
   ]
  },
  {
   "cell_type": "code",
   "execution_count": 37,
   "id": "f2d1e466",
   "metadata": {},
   "outputs": [
    {
     "data": {
      "text/plain": [
       "{'w10': array([0.19041071, 0.14933043, 0.07192855, 0.94385416]),\n",
       " 'w11': array([0.06362298, 0.28143441, 0.39258329, 0.78344815]),\n",
       " 'w12': array([0.24356739, 0.65933038, 0.87854474, 0.90365381]),\n",
       " 'w13': array([0.52836926, 0.56454637, 0.2348076 , 0.79048978]),\n",
       " 'w14': array([0.61200822, 0.79432615, 0.65196746, 0.57473086])}"
      ]
     },
     "execution_count": 37,
     "metadata": {},
     "output_type": "execute_result"
    }
   ],
   "source": [
    "W"
   ]
  },
  {
   "cell_type": "code",
   "execution_count": null,
   "id": "9e383348",
   "metadata": {},
   "outputs": [],
   "source": []
  }
 ],
 "metadata": {
  "kernelspec": {
   "display_name": "Python 3",
   "language": "python",
   "name": "python3"
  },
  "language_info": {
   "codemirror_mode": {
    "name": "ipython",
    "version": 3
   },
   "file_extension": ".py",
   "mimetype": "text/x-python",
   "name": "python",
   "nbconvert_exporter": "python",
   "pygments_lexer": "ipython3",
   "version": "3.12.10"
  }
 },
 "nbformat": 4,
 "nbformat_minor": 5
}

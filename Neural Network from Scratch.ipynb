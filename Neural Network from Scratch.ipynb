{
 "cells": [
  {
   "cell_type": "code",
   "execution_count": 1,
   "id": "9e383348",
   "metadata": {},
   "outputs": [],
   "source": [
    "import numpy as np\n",
    "\n",
    "inputs = np.array([[1, 2, 3, 2.5],\n",
    "[2.0, 5.0, -1.0, 2.0],\n",
    "[-1.5, 2.7, 3.3, -0.8]])"
   ]
  },
  {
   "cell_type": "code",
   "execution_count": 58,
   "id": "28ae6d03",
   "metadata": {},
   "outputs": [],
   "source": [
    "class Network:\n",
    "    def __init__(self):\n",
    "        self.W = {}\n",
    "        self.B = {}\n",
    "    \n",
    "    def layer(self, inputs, layer_no, neurons, ):\n",
    "        \n",
    "        self.layer_no = layer_no\n",
    "        self.neurons = neurons\n",
    "        self.inputs = inputs\n",
    "        self.W[layer_no] = {}\n",
    "        self.B[layer_no] = {}\n",
    "        \n",
    "        for i in range(self.neurons):\n",
    "            if f\"{self.layer_no}{i}\" not in self.W.keys():\n",
    "                self.W[self.layer_no][i] = np.array([np.random.randn(self.inputs.shape[1]) for i in range(self.inputs.shape[0])])\n",
    "                self.B[self.layer_no][i] = np.array([np.random.randn() for i in range(self.inputs.shape[0])])\n",
    "\n",
    "    def forward(self, inputs, layer_no):\n",
    "        try:\n",
    "            return [inputs.dot(self.W[layer_no][i].T)+self.B[layer_no][i] for i in self.W[layer_no]]\n",
    "        except KeyError:\n",
    "            return \"Layer not initialized\""
   ]
  },
  {
   "cell_type": "code",
   "execution_count": 59,
   "id": "915941a5",
   "metadata": {},
   "outputs": [],
   "source": [
    "nn = Network()"
   ]
  },
  {
   "cell_type": "code",
   "execution_count": 60,
   "id": "8a12c705",
   "metadata": {},
   "outputs": [],
   "source": [
    "layer1 = nn.layer(inputs, 1, 2)"
   ]
  },
  {
   "cell_type": "code",
   "execution_count": 61,
   "id": "d6115819",
   "metadata": {},
   "outputs": [
    {
     "data": {
      "text/plain": [
       "'Layer not initialized'"
      ]
     },
     "execution_count": 61,
     "metadata": {},
     "output_type": "execute_result"
    }
   ],
   "source": [
    "nn.forward(inputs,2)"
   ]
  },
  {
   "cell_type": "code",
   "execution_count": null,
   "id": "86e65f80",
   "metadata": {},
   "outputs": [],
   "source": []
  }
 ],
 "metadata": {
  "kernelspec": {
   "display_name": "Python 3",
   "language": "python",
   "name": "python3"
  },
  "language_info": {
   "codemirror_mode": {
    "name": "ipython",
    "version": 3
   },
   "file_extension": ".py",
   "mimetype": "text/x-python",
   "name": "python",
   "nbconvert_exporter": "python",
   "pygments_lexer": "ipython3",
   "version": "3.12.10"
  }
 },
 "nbformat": 4,
 "nbformat_minor": 5
}

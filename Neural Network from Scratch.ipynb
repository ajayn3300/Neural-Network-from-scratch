{
 "cells": [
  {
   "cell_type": "code",
   "execution_count": 1,
   "id": "9e383348",
   "metadata": {},
   "outputs": [],
   "source": [
    "import numpy as np\n",
    "\n",
    "inputs = np.array([[1, 2, 3, 2.5],\n",
    "[2.0, 5.0, -1.0, 2.0],\n",
    "[-1.5, 2.7, 3.3, -0.8]])"
   ]
  },
  {
   "cell_type": "code",
   "execution_count": 2,
   "id": "28ae6d03",
   "metadata": {},
   "outputs": [],
   "source": [
    "class Network:\n",
    "    def __init__(self):\n",
    "        self.W = {}\n",
    "        self.B = {}\n",
    "    \n",
    "    def layer(self, inputs, layer_no, neurons, ):\n",
    "        \n",
    "        self.layer_no = layer_no\n",
    "        self.neurons = neurons\n",
    "        self.inputs = inputs\n",
    "        self.W[layer_no] = {}\n",
    "        self.B[layer_no] = {}\n",
    "        \n",
    "        for i in range(self.neurons):\n",
    "            if f\"{self.layer_no}{i}\" not in self.W.keys():\n",
    "                self.W[self.layer_no][i] = np.array([np.random.randn(self.inputs.shape[1]) for i in range(self.inputs.shape[0])])\n",
    "                self.B[self.layer_no][i] = np.array([np.random.randn() for i in range(self.inputs.shape[0])])\n",
    "\n",
    "    def forward(self, inputs, layer_no):\n",
    "        try:\n",
    "            return [inputs.dot(self.W[layer_no][i].T)+self.B[layer_no][i] for i in self.W[layer_no]]\n",
    "        except KeyError:\n",
    "            return \"Layer not initialized\""
   ]
  },
  {
   "cell_type": "code",
   "execution_count": 3,
   "id": "915941a5",
   "metadata": {},
   "outputs": [],
   "source": [
    "nn = Network()"
   ]
  },
  {
   "cell_type": "code",
   "execution_count": 4,
   "id": "8a12c705",
   "metadata": {},
   "outputs": [
    {
     "ename": "AttributeError",
     "evalue": "'list' object has no attribute 'shape'",
     "output_type": "error",
     "traceback": [
      "\u001b[31m---------------------------------------------------------------------------\u001b[39m",
      "\u001b[31mAttributeError\u001b[39m                            Traceback (most recent call last)",
      "\u001b[36mCell\u001b[39m\u001b[36m \u001b[39m\u001b[32mIn[4]\u001b[39m\u001b[32m, line 3\u001b[39m\n\u001b[32m      1\u001b[39m layer1 = nn.layer(inputs, \u001b[32m1\u001b[39m, \u001b[32m2\u001b[39m)\n\u001b[32m      2\u001b[39m output1 = nn.forward(inputs,\u001b[32m1\u001b[39m)\n\u001b[32m----> \u001b[39m\u001b[32m3\u001b[39m layer2 = \u001b[43mnn\u001b[49m\u001b[43m.\u001b[49m\u001b[43mlayer\u001b[49m\u001b[43m(\u001b[49m\u001b[43moutput1\u001b[49m\u001b[43m,\u001b[49m\u001b[43m \u001b[49m\u001b[32;43m2\u001b[39;49m\u001b[43m,\u001b[49m\u001b[43m \u001b[49m\u001b[32;43m2\u001b[39;49m\u001b[43m)\u001b[49m\n\u001b[32m      4\u001b[39m output2 = nn.forward(output1,\u001b[32m2\u001b[39m)\n\u001b[32m      5\u001b[39m layer3 = nn.layer(output2, \u001b[32m2\u001b[39m, \u001b[32m1\u001b[39m)\n",
      "\u001b[36mCell\u001b[39m\u001b[36m \u001b[39m\u001b[32mIn[2]\u001b[39m\u001b[32m, line 16\u001b[39m, in \u001b[36mNetwork.layer\u001b[39m\u001b[34m(self, inputs, layer_no, neurons)\u001b[39m\n\u001b[32m     14\u001b[39m \u001b[38;5;28;01mfor\u001b[39;00m i \u001b[38;5;129;01min\u001b[39;00m \u001b[38;5;28mrange\u001b[39m(\u001b[38;5;28mself\u001b[39m.neurons):\n\u001b[32m     15\u001b[39m     \u001b[38;5;28;01mif\u001b[39;00m \u001b[33mf\u001b[39m\u001b[33m\"\u001b[39m\u001b[38;5;132;01m{\u001b[39;00m\u001b[38;5;28mself\u001b[39m.layer_no\u001b[38;5;132;01m}\u001b[39;00m\u001b[38;5;132;01m{\u001b[39;00mi\u001b[38;5;132;01m}\u001b[39;00m\u001b[33m\"\u001b[39m \u001b[38;5;129;01mnot\u001b[39;00m \u001b[38;5;129;01min\u001b[39;00m \u001b[38;5;28mself\u001b[39m.W.keys():\n\u001b[32m---> \u001b[39m\u001b[32m16\u001b[39m         \u001b[38;5;28mself\u001b[39m.W[\u001b[38;5;28mself\u001b[39m.layer_no][i] = np.array([np.random.randn(\u001b[38;5;28mself\u001b[39m.inputs.shape[\u001b[32m1\u001b[39m]) \u001b[38;5;28;01mfor\u001b[39;00m i \u001b[38;5;129;01min\u001b[39;00m \u001b[38;5;28mrange\u001b[39m(\u001b[38;5;28;43mself\u001b[39;49m\u001b[43m.\u001b[49m\u001b[43minputs\u001b[49m\u001b[43m.\u001b[49m\u001b[43mshape\u001b[49m[\u001b[32m0\u001b[39m])])\n\u001b[32m     17\u001b[39m         \u001b[38;5;28mself\u001b[39m.B[\u001b[38;5;28mself\u001b[39m.layer_no][i] = np.array([np.random.randn() \u001b[38;5;28;01mfor\u001b[39;00m i \u001b[38;5;129;01min\u001b[39;00m \u001b[38;5;28mrange\u001b[39m(\u001b[38;5;28mself\u001b[39m.inputs.shape[\u001b[32m0\u001b[39m])])\n",
      "\u001b[31mAttributeError\u001b[39m: 'list' object has no attribute 'shape'"
     ]
    }
   ],
   "source": [
    "layer1 = nn.layer(inputs, 1, 2)\n",
    "output1 = nn.forward(inputs,1)\n",
    "layer2 = nn.layer(output1, 2, 2)\n",
    "output2 = nn.forward(output1,2)\n",
    "layer3 = nn.layer(output2, 2, 1)\n",
    "output3 = nn.forward(output2,1)\n",
    "\n"
   ]
  },
  {
   "cell_type": "code",
   "execution_count": 7,
   "id": "86e65f80",
   "metadata": {},
   "outputs": [
    {
     "data": {
      "text/plain": [
       "(2, 3, 3)"
      ]
     },
     "execution_count": 7,
     "metadata": {},
     "output_type": "execute_result"
    }
   ],
   "source": [
    "np.array(output1).shape"
   ]
  },
  {
   "cell_type": "code",
   "execution_count": null,
   "id": "13a1e6a6",
   "metadata": {},
   "outputs": [],
   "source": []
  }
 ],
 "metadata": {
  "kernelspec": {
   "display_name": "Python 3",
   "language": "python",
   "name": "python3"
  },
  "language_info": {
   "codemirror_mode": {
    "name": "ipython",
    "version": 3
   },
   "file_extension": ".py",
   "mimetype": "text/x-python",
   "name": "python",
   "nbconvert_exporter": "python",
   "pygments_lexer": "ipython3",
   "version": "3.12.10"
  }
 },
 "nbformat": 4,
 "nbformat_minor": 5
}
